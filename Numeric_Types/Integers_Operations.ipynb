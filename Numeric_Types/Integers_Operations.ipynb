{
 "cells": [
  {
   "cell_type": "code",
   "execution_count": 1,
   "id": "7b96c686-15aa-4534-aa2a-5ddc8e45467d",
   "metadata": {},
   "outputs": [
    {
     "data": {
      "text/plain": [
       "int"
      ]
     },
     "execution_count": 1,
     "metadata": {},
     "output_type": "execute_result"
    }
   ],
   "source": [
    "type(1+1)"
   ]
  },
  {
   "cell_type": "code",
   "execution_count": 2,
   "id": "b8c4579d-031e-4f21-b00a-4483b0b4b98c",
   "metadata": {},
   "outputs": [
    {
     "data": {
      "text/plain": [
       "int"
      ]
     },
     "execution_count": 2,
     "metadata": {},
     "output_type": "execute_result"
    }
   ],
   "source": [
    "type(2 * 3)"
   ]
  },
  {
   "cell_type": "code",
   "execution_count": 3,
   "id": "26dc5a43-0e50-4ae8-8ce7-c7e4e8e74bc6",
   "metadata": {},
   "outputs": [
    {
     "data": {
      "text/plain": [
       "int"
      ]
     },
     "execution_count": 3,
     "metadata": {},
     "output_type": "execute_result"
    }
   ],
   "source": [
    "type(4 - 10)"
   ]
  },
  {
   "cell_type": "code",
   "execution_count": 4,
   "id": "b31c858d-ac76-4b01-b214-2bed15ed6139",
   "metadata": {},
   "outputs": [
    {
     "data": {
      "text/plain": [
       "int"
      ]
     },
     "execution_count": 4,
     "metadata": {},
     "output_type": "execute_result"
    }
   ],
   "source": [
    "type( 3**6)"
   ]
  },
  {
   "cell_type": "code",
   "execution_count": 5,
   "id": "d85bb09b-716e-49d9-a3d3-59a97dab753e",
   "metadata": {},
   "outputs": [
    {
     "data": {
      "text/plain": [
       "float"
      ]
     },
     "execution_count": 5,
     "metadata": {},
     "output_type": "execute_result"
    }
   ],
   "source": [
    "type(2/3)"
   ]
  },
  {
   "cell_type": "code",
   "execution_count": 6,
   "id": "45996b2f-24df-4150-95be-9d0fe47bdc8d",
   "metadata": {},
   "outputs": [
    {
     "data": {
      "text/plain": [
       "float"
      ]
     },
     "execution_count": 6,
     "metadata": {},
     "output_type": "execute_result"
    }
   ],
   "source": [
    "type(10/2)"
   ]
  },
  {
   "cell_type": "code",
   "execution_count": 7,
   "id": "7aed44ad-4cc4-4bb4-be22-f4251c516061",
   "metadata": {},
   "outputs": [],
   "source": [
    "import math"
   ]
  },
  {
   "cell_type": "code",
   "execution_count": 8,
   "id": "dc106894-8b51-41c5-9481-71b35993ea6c",
   "metadata": {},
   "outputs": [
    {
     "data": {
      "text/plain": [
       "3"
      ]
     },
     "execution_count": 8,
     "metadata": {},
     "output_type": "execute_result"
    }
   ],
   "source": [
    "math.floor(3.15)"
   ]
  },
  {
   "cell_type": "code",
   "execution_count": 10,
   "id": "830e0619-dbf2-4f46-90bb-f61e84370041",
   "metadata": {},
   "outputs": [
    {
     "data": {
      "text/plain": [
       "3"
      ]
     },
     "execution_count": 10,
     "metadata": {},
     "output_type": "execute_result"
    }
   ],
   "source": [
    "math.floor(3.9999)"
   ]
  },
  {
   "cell_type": "code",
   "execution_count": 11,
   "id": "fde1aeb6-7ccb-4c22-9bea-07ccabc863c5",
   "metadata": {},
   "outputs": [
    {
     "data": {
      "text/plain": [
       "-4"
      ]
     },
     "execution_count": 11,
     "metadata": {},
     "output_type": "execute_result"
    }
   ],
   "source": [
    "math.floor(-3.14)"
   ]
  },
  {
   "cell_type": "code",
   "execution_count": 12,
   "id": "d9885915-627b-4931-b15e-64ff542f135d",
   "metadata": {},
   "outputs": [
    {
     "data": {
      "text/plain": [
       "-4"
      ]
     },
     "execution_count": 12,
     "metadata": {},
     "output_type": "execute_result"
    }
   ],
   "source": [
    "math.floor(-3.00000000001)"
   ]
  },
  {
   "cell_type": "code",
   "execution_count": 13,
   "id": "67022437-c3e1-4587-81f3-3ef77b9ea931",
   "metadata": {},
   "outputs": [
    {
     "data": {
      "text/plain": [
       "-4"
      ]
     },
     "execution_count": 13,
     "metadata": {},
     "output_type": "execute_result"
    }
   ],
   "source": [
    "math.floor(-3.00000000000001)"
   ]
  },
  {
   "cell_type": "code",
   "execution_count": 14,
   "id": "4ff5848b-6432-4ece-bc27-d519ed9997d3",
   "metadata": {},
   "outputs": [
    {
     "data": {
      "text/plain": [
       "-3"
      ]
     },
     "execution_count": 14,
     "metadata": {},
     "output_type": "execute_result"
    }
   ],
   "source": [
    "math.floor(-3.000000000000000001)"
   ]
  },
  {
   "cell_type": "code",
   "execution_count": 16,
   "id": "0200222b-3894-4d18-b69e-d4ec5878ec79",
   "metadata": {},
   "outputs": [
    {
     "name": "stdout",
     "output_type": "stream",
     "text": [
      "2.0625\n",
      "2\n",
      "2\n"
     ]
    }
   ],
   "source": [
    "a = 33\n",
    "b = 16\n",
    "print(a/b)\n",
    "print(a//b)\n",
    "print(math.floor(a/b))"
   ]
  },
  {
   "cell_type": "code",
   "execution_count": 17,
   "id": "8abb0c03-40ff-49cd-8987-b7c74602d67b",
   "metadata": {},
   "outputs": [
    {
     "name": "stdout",
     "output_type": "stream",
     "text": [
      "-2.0625\n",
      "-3\n",
      "-3\n"
     ]
    }
   ],
   "source": [
    "a = -33\n",
    "b = 16\n",
    "print(a/b)\n",
    "print(a//b)\n",
    "print(math.floor(a/b))"
   ]
  },
  {
   "cell_type": "code",
   "execution_count": 18,
   "id": "5bdd5dbc-8dcf-4420-9ba0-4e4679304bb0",
   "metadata": {},
   "outputs": [
    {
     "name": "stdout",
     "output_type": "stream",
     "text": [
      "-2.0625\n",
      "-3\n",
      "-3\n",
      "-2\n"
     ]
    }
   ],
   "source": [
    "a = -33\n",
    "b = 16\n",
    "print(a/b)\n",
    "print(a//b)\n",
    "print(math.floor(a/b))\n",
    "print(math.trunc(a/b))"
   ]
  },
  {
   "cell_type": "code",
   "execution_count": 19,
   "id": "d45a0d56-625c-48c4-9365-60efe6ef837d",
   "metadata": {},
   "outputs": [],
   "source": [
    "a = b * (a//b) + (a % b)"
   ]
  },
  {
   "cell_type": "code",
   "execution_count": 21,
   "id": "22e5e816-8a7c-44a2-a55d-4fe7929ef198",
   "metadata": {},
   "outputs": [
    {
     "name": "stdout",
     "output_type": "stream",
     "text": [
      "13/4 = 3.25\n",
      "13//4 = 3\n",
      "13%4 = 1\n",
      "True\n"
     ]
    }
   ],
   "source": [
    "a = 13\n",
    "b = 4\n",
    "print('{0}/{1} = {2}'.format(a, b, a/b))\n",
    "print('{0}//{1} = {2}'.format(a, b, a//b))\n",
    "print('{0}%{1} = {2}'.format(a, b, a%b))\n",
    "print(a == b * (a//b) + (a%b))"
   ]
  },
  {
   "cell_type": "code",
   "execution_count": 22,
   "id": "9d6eecce-9298-415a-a1df-9c913f0ebea7",
   "metadata": {},
   "outputs": [
    {
     "name": "stdout",
     "output_type": "stream",
     "text": [
      "-13/4 = -3.25\n",
      "-13//4 = -4\n",
      "-13%4 = 3\n",
      "True\n"
     ]
    }
   ],
   "source": [
    "a = -13\n",
    "b = 4\n",
    "print('{0}/{1} = {2}'.format(a, b, a/b))\n",
    "print('{0}//{1} = {2}'.format(a, b, a//b))\n",
    "print('{0}%{1} = {2}'.format(a, b, a%b))\n",
    "print(a == b * (a//b) + (a%b))"
   ]
  },
  {
   "cell_type": "code",
   "execution_count": 23,
   "id": "c837b19b-ed66-4161-a039-89d9bf9d6008",
   "metadata": {},
   "outputs": [
    {
     "name": "stdout",
     "output_type": "stream",
     "text": [
      "13/-4 = -3.25\n",
      "13//-4 = -4\n",
      "13%-4 = -3\n",
      "True\n"
     ]
    }
   ],
   "source": [
    "a = 13\n",
    "b = -4\n",
    "print('{0}/{1} = {2}'.format(a, b, a/b))\n",
    "print('{0}//{1} = {2}'.format(a, b, a//b))\n",
    "print('{0}%{1} = {2}'.format(a, b, a%b))\n",
    "print(a == b * (a//b) + (a%b))"
   ]
  },
  {
   "cell_type": "code",
   "execution_count": 24,
   "id": "13d31658-60da-458d-8d74-a6bd63139eb5",
   "metadata": {},
   "outputs": [
    {
     "name": "stdout",
     "output_type": "stream",
     "text": [
      "-13/-4 = 3.25\n",
      "-13//-4 = 3\n",
      "-13%-4 = -1\n",
      "True\n"
     ]
    }
   ],
   "source": [
    "a = -13\n",
    "b = -4\n",
    "print('{0}/{1} = {2}'.format(a, b, a/b))\n",
    "print('{0}//{1} = {2}'.format(a, b, a//b))\n",
    "print('{0}%{1} = {2}'.format(a, b, a%b))\n",
    "print(a == b * (a//b) + (a%b))"
   ]
  },
  {
   "cell_type": "code",
   "execution_count": null,
   "id": "8f7f1efc-c68c-456a-8bb6-d90b66f525fd",
   "metadata": {},
   "outputs": [],
   "source": []
  }
 ],
 "metadata": {
  "kernelspec": {
   "display_name": "Python 3 (ipykernel)",
   "language": "python",
   "name": "python3"
  },
  "language_info": {
   "codemirror_mode": {
    "name": "ipython",
    "version": 3
   },
   "file_extension": ".py",
   "mimetype": "text/x-python",
   "name": "python",
   "nbconvert_exporter": "python",
   "pygments_lexer": "ipython3",
   "version": "3.11.2"
  }
 },
 "nbformat": 4,
 "nbformat_minor": 5
}
