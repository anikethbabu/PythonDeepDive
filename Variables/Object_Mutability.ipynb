{
 "cells": [
  {
   "cell_type": "code",
   "execution_count": 1,
   "id": "452adc5e-4a1d-485d-b169-111e6d80baab",
   "metadata": {},
   "outputs": [],
   "source": [
    "my_list = [1,2,3]"
   ]
  },
  {
   "cell_type": "code",
   "execution_count": 2,
   "id": "d06bb406-c611-436d-bf31-b272706f2be4",
   "metadata": {},
   "outputs": [
    {
     "data": {
      "text/plain": [
       "list"
      ]
     },
     "execution_count": 2,
     "metadata": {},
     "output_type": "execute_result"
    }
   ],
   "source": [
    "type(my_list)"
   ]
  },
  {
   "cell_type": "code",
   "execution_count": 3,
   "id": "52236ed8-8139-4b7b-9e47-907f9942b582",
   "metadata": {},
   "outputs": [
    {
     "data": {
      "text/plain": [
       "140485397404096"
      ]
     },
     "execution_count": 3,
     "metadata": {},
     "output_type": "execute_result"
    }
   ],
   "source": [
    "id(my_list)"
   ]
  },
  {
   "cell_type": "code",
   "execution_count": 4,
   "id": "53629ade-3a4e-4de6-9f98-72b09a8c563c",
   "metadata": {},
   "outputs": [],
   "source": [
    "my_list.append(4)"
   ]
  },
  {
   "cell_type": "code",
   "execution_count": 5,
   "id": "40e61775-b88f-489c-b812-4ab9fd9ee1c2",
   "metadata": {},
   "outputs": [
    {
     "data": {
      "text/plain": [
       "[1, 2, 3, 4]"
      ]
     },
     "execution_count": 5,
     "metadata": {},
     "output_type": "execute_result"
    }
   ],
   "source": [
    "my_list"
   ]
  },
  {
   "cell_type": "code",
   "execution_count": 6,
   "id": "35e63321-96ab-4c3e-a5ee-aac627965538",
   "metadata": {},
   "outputs": [
    {
     "data": {
      "text/plain": [
       "140485397404096"
      ]
     },
     "execution_count": 6,
     "metadata": {},
     "output_type": "execute_result"
    }
   ],
   "source": [
    "id(my_list)"
   ]
  },
  {
   "cell_type": "code",
   "execution_count": 7,
   "id": "ef4a65af-d78b-4820-aab5-0c8648c82990",
   "metadata": {},
   "outputs": [],
   "source": [
    "my_list_1 = [1,2,3]"
   ]
  },
  {
   "cell_type": "code",
   "execution_count": 8,
   "id": "bad753de-7ce8-4d83-af2e-1a5070d96bbc",
   "metadata": {},
   "outputs": [
    {
     "data": {
      "text/plain": [
       "140485397411520"
      ]
     },
     "execution_count": 8,
     "metadata": {},
     "output_type": "execute_result"
    }
   ],
   "source": [
    "id(my_list_1)"
   ]
  },
  {
   "cell_type": "code",
   "execution_count": 9,
   "id": "d6a8ce8c-5a33-49f5-bdea-f345d4b91566",
   "metadata": {},
   "outputs": [],
   "source": [
    "my_list_1 = my_list_1 + [4]"
   ]
  },
  {
   "cell_type": "code",
   "execution_count": 10,
   "id": "3db508e3-4350-4dba-a803-3a844577b3de",
   "metadata": {},
   "outputs": [
    {
     "data": {
      "text/plain": [
       "[1, 2, 3, 4]"
      ]
     },
     "execution_count": 10,
     "metadata": {},
     "output_type": "execute_result"
    }
   ],
   "source": [
    "my_list_1"
   ]
  },
  {
   "cell_type": "code",
   "execution_count": 11,
   "id": "f69dba29-6857-4160-85e0-95b553d6750d",
   "metadata": {},
   "outputs": [
    {
     "data": {
      "text/plain": [
       "140485397404288"
      ]
     },
     "execution_count": 11,
     "metadata": {},
     "output_type": "execute_result"
    }
   ],
   "source": [
    "id(my_list_1)"
   ]
  },
  {
   "cell_type": "code",
   "execution_count": 13,
   "id": "7ff22ca7-3c4c-413d-b32b-4e083c8e3043",
   "metadata": {},
   "outputs": [],
   "source": [
    "my_dict = dict(key1=1, key2='a')"
   ]
  },
  {
   "cell_type": "code",
   "execution_count": 14,
   "id": "ecb81ba5-9c64-4566-81dd-4ae57c8d19ed",
   "metadata": {},
   "outputs": [
    {
     "data": {
      "text/plain": [
       "140485397288256"
      ]
     },
     "execution_count": 14,
     "metadata": {},
     "output_type": "execute_result"
    }
   ],
   "source": [
    "id(my_dict)"
   ]
  },
  {
   "cell_type": "code",
   "execution_count": 15,
   "id": "40862d12-65fa-4e22-87ef-aa289bab269a",
   "metadata": {},
   "outputs": [],
   "source": [
    "my_dict['key3'] = 10.5"
   ]
  },
  {
   "cell_type": "code",
   "execution_count": 16,
   "id": "43a39bf3-95ae-4cd6-af7b-211991b8bebb",
   "metadata": {},
   "outputs": [
    {
     "data": {
      "text/plain": [
       "140485397288256"
      ]
     },
     "execution_count": 16,
     "metadata": {},
     "output_type": "execute_result"
    }
   ],
   "source": [
    "id(my_dict)"
   ]
  },
  {
   "cell_type": "code",
   "execution_count": 17,
   "id": "4a64c93f-040a-425d-92f9-2f5e439b1860",
   "metadata": {},
   "outputs": [],
   "source": [
    "t = (1, 2, 3)"
   ]
  },
  {
   "cell_type": "code",
   "execution_count": 18,
   "id": "936af4a3-e170-4c36-bc6b-41a478b33060",
   "metadata": {},
   "outputs": [
    {
     "data": {
      "text/plain": [
       "140485397355328"
      ]
     },
     "execution_count": 18,
     "metadata": {},
     "output_type": "execute_result"
    }
   ],
   "source": [
    "id(t)"
   ]
  },
  {
   "cell_type": "code",
   "execution_count": 19,
   "id": "2c19da6b-a7aa-4851-8cc1-06373f0055f5",
   "metadata": {},
   "outputs": [
    {
     "data": {
      "text/plain": [
       "1"
      ]
     },
     "execution_count": 19,
     "metadata": {},
     "output_type": "execute_result"
    }
   ],
   "source": [
    "t[0]"
   ]
  },
  {
   "cell_type": "code",
   "execution_count": 20,
   "id": "8dab33de-625e-4e26-83ab-7cbbbcea4fac",
   "metadata": {},
   "outputs": [
    {
     "data": {
      "text/plain": [
       "10861192"
      ]
     },
     "execution_count": 20,
     "metadata": {},
     "output_type": "execute_result"
    }
   ],
   "source": [
    "id(t[0])"
   ]
  },
  {
   "cell_type": "code",
   "execution_count": 21,
   "id": "7a56f32c-f87f-424c-a558-beb4ff53e227",
   "metadata": {},
   "outputs": [
    {
     "data": {
      "text/plain": [
       "10861224"
      ]
     },
     "execution_count": 21,
     "metadata": {},
     "output_type": "execute_result"
    }
   ],
   "source": [
    "id(t[1])"
   ]
  },
  {
   "cell_type": "code",
   "execution_count": 22,
   "id": "0af59605-fb92-4963-a03e-56c6c42b45c3",
   "metadata": {},
   "outputs": [
    {
     "data": {
      "text/plain": [
       "10861192"
      ]
     },
     "execution_count": 22,
     "metadata": {},
     "output_type": "execute_result"
    }
   ],
   "source": [
    "id(my_list_1[0])"
   ]
  },
  {
   "cell_type": "code",
   "execution_count": 23,
   "id": "bd6a9cf7-c4a8-41fc-97fb-9746652e4ac3",
   "metadata": {},
   "outputs": [],
   "source": [
    "t = ([1,2],[3,4])"
   ]
  },
  {
   "cell_type": "code",
   "execution_count": 24,
   "id": "4432353c-922f-447f-a151-2df986c04b10",
   "metadata": {},
   "outputs": [
    {
     "data": {
      "text/plain": [
       "140485396776512"
      ]
     },
     "execution_count": 24,
     "metadata": {},
     "output_type": "execute_result"
    }
   ],
   "source": [
    "id(t)"
   ]
  },
  {
   "cell_type": "code",
   "execution_count": 25,
   "id": "f68a6141-e007-4baf-95d5-46b39b0233b4",
   "metadata": {},
   "outputs": [
    {
     "data": {
      "text/plain": [
       "[1, 2]"
      ]
     },
     "execution_count": 25,
     "metadata": {},
     "output_type": "execute_result"
    }
   ],
   "source": [
    "t[0]"
   ]
  },
  {
   "cell_type": "code",
   "execution_count": null,
   "id": "2f3d420b-f8d3-4ae6-93cd-f3ed7cbfd66f",
   "metadata": {},
   "outputs": [],
   "source": [
    "tp"
   ]
  }
 ],
 "metadata": {
  "kernelspec": {
   "display_name": "Python 3 (ipykernel)",
   "language": "python",
   "name": "python3"
  },
  "language_info": {
   "codemirror_mode": {
    "name": "ipython",
    "version": 3
   },
   "file_extension": ".py",
   "mimetype": "text/x-python",
   "name": "python",
   "nbconvert_exporter": "python",
   "pygments_lexer": "ipython3",
   "version": "3.11.2"
  }
 },
 "nbformat": 4,
 "nbformat_minor": 5
}
