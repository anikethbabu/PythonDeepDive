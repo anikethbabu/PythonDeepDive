{
 "cells": [
  {
   "cell_type": "markdown",
   "id": "93cf3b03-4215-44e3-8932-25b84c91b1ec",
   "metadata": {},
   "source": [
    "## Putting it all Together"
   ]
  },
  {
   "cell_type": "code",
   "execution_count": 1,
   "id": "be9134d7-bb80-4010-9a25-32ee8372c4a9",
   "metadata": {},
   "outputs": [],
   "source": [
    "def func(a, b, *args):\n",
    "    print(a, b, args)"
   ]
  },
  {
   "cell_type": "code",
   "execution_count": 2,
   "id": "631529ca-f131-4912-9cbe-ef0a6b70fe58",
   "metadata": {},
   "outputs": [
    {
     "name": "stdout",
     "output_type": "stream",
     "text": [
      "1 2 ('x', 'y', 'z')\n"
     ]
    }
   ],
   "source": [
    "func(1, 2, 'x', 'y', 'z')"
   ]
  },
  {
   "cell_type": "code",
   "execution_count": 4,
   "id": "c6c797c4-a609-4698-8475-2d63b4d81aa5",
   "metadata": {},
   "outputs": [
    {
     "ename": "SyntaxError",
     "evalue": "positional argument follows keyword argument (200172180.py, line 1)",
     "output_type": "error",
     "traceback": [
      "\u001b[0;36m  Cell \u001b[0;32mIn[4], line 1\u001b[0;36m\u001b[0m\n\u001b[0;31m    func(a=1, b=2, 'x', 'y', 'z')\u001b[0m\n\u001b[0m                                ^\u001b[0m\n\u001b[0;31mSyntaxError\u001b[0m\u001b[0;31m:\u001b[0m positional argument follows keyword argument\n"
     ]
    }
   ],
   "source": [
    "func(a=1, b=2, 'x', 'y', 'z')"
   ]
  },
  {
   "cell_type": "code",
   "execution_count": 5,
   "id": "28a9f577-e667-4267-bd0d-0619e63e83d4",
   "metadata": {},
   "outputs": [],
   "source": [
    "def func(a, b=2, c=2, *args):\n",
    "    print(a, b, c, args)"
   ]
  },
  {
   "cell_type": "code",
   "execution_count": 6,
   "id": "63b15b94-99ab-4fc2-870e-9cde054c74da",
   "metadata": {},
   "outputs": [
    {
     "name": "stdout",
     "output_type": "stream",
     "text": [
      "1 4 3 ('x', 'y', 'z')\n"
     ]
    }
   ],
   "source": [
    "func(1, 4, 3, 'x', 'y', 'z')"
   ]
  },
  {
   "cell_type": "code",
   "execution_count": 8,
   "id": "942d29e4-6f88-48ee-bfa0-b3b991dfd011",
   "metadata": {},
   "outputs": [],
   "source": [
    "def func(a, b=2, *args, c=3, d):\n",
    "    print(a, b, args, c, d)"
   ]
  },
  {
   "cell_type": "code",
   "execution_count": 9,
   "id": "05b4676c-143b-40d6-82e7-1ff37272b627",
   "metadata": {},
   "outputs": [
    {
     "name": "stdout",
     "output_type": "stream",
     "text": [
      "10 20 ('x', 'y', 'z') 4 1\n"
     ]
    }
   ],
   "source": [
    "func(10, 20, 'x', 'y', 'z', c=4, d=1)"
   ]
  },
  {
   "cell_type": "code",
   "execution_count": 10,
   "id": "abab18e7-7448-44b3-8910-1a93b89ee996",
   "metadata": {},
   "outputs": [
    {
     "name": "stdout",
     "output_type": "stream",
     "text": [
      "10 20 ('x', 'y', 'z') 3 10\n"
     ]
    }
   ],
   "source": [
    "func(10, 20, 'x', 'y', 'z', d=10)"
   ]
  },
  {
   "cell_type": "code",
   "execution_count": 13,
   "id": "bc60f5c3-fbb4-42f5-8808-b5a56b3f4117",
   "metadata": {},
   "outputs": [
    {
     "name": "stdout",
     "output_type": "stream",
     "text": [
      "1 x ('y', 'z') 3 10\n"
     ]
    }
   ],
   "source": [
    "func(1, 'x', 'y', 'z', d=10)"
   ]
  },
  {
   "cell_type": "code",
   "execution_count": 14,
   "id": "43a95a17-6163-49df-a2eb-878b1c47e6e8",
   "metadata": {},
   "outputs": [],
   "source": [
    "def func(a, b, *args, c=10, d=20, **kwargs):\n",
    "    print(a, b, args, c, d, kwargs)"
   ]
  },
  {
   "cell_type": "code",
   "execution_count": 15,
   "id": "98a1800d-36ba-4b47-b44b-a067276b8ae4",
   "metadata": {},
   "outputs": [
    {
     "name": "stdout",
     "output_type": "stream",
     "text": [
      "1 2 ('x', 'y', 'z') 100 200 {'x': 0.1, 'y': 0.2}\n"
     ]
    }
   ],
   "source": [
    "func(1, 2, 'x', 'y', 'z', c=100, d=200, x=0.1, y=0.2)"
   ]
  },
  {
   "cell_type": "code",
   "execution_count": 16,
   "id": "1dbf8c55-930a-4376-8135-22b78d9f6c16",
   "metadata": {},
   "outputs": [
    {
     "name": "stdout",
     "output_type": "stream",
     "text": [
      "Help on built-in function print in module builtins:\n",
      "\n",
      "print(*args, sep=' ', end='\\n', file=None, flush=False)\n",
      "    Prints the values to a stream, or to sys.stdout by default.\n",
      "    \n",
      "    sep\n",
      "      string inserted between values, default a space.\n",
      "    end\n",
      "      string appended after the last value, default a newline.\n",
      "    file\n",
      "      a file-like object (stream); defaults to the current sys.stdout.\n",
      "    flush\n",
      "      whether to forcibly flush the stream.\n",
      "\n"
     ]
    }
   ],
   "source": [
    "help(print)"
   ]
  },
  {
   "cell_type": "code",
   "execution_count": 19,
   "id": "ae3ee967-90cd-45f8-959f-6e994012a50b",
   "metadata": {},
   "outputs": [
    {
     "name": "stdout",
     "output_type": "stream",
     "text": [
      "1-2-3 *** 1-2-3\n"
     ]
    }
   ],
   "source": [
    "print(1, 2, 3, sep='-', end=' *** ')\n",
    "print(1, 2, 3, sep='-')"
   ]
  },
  {
   "cell_type": "code",
   "execution_count": 25,
   "id": "04d73430-324f-48ea-90bd-156b3452b788",
   "metadata": {},
   "outputs": [],
   "source": [
    "def calc_hi_lo_avg(*args, log_to_console=False):\n",
    "    hi = int(bool(args)) and max(args)\n",
    "    lo = min(args) if len(args) > 0 else 0\n",
    "    avg = (hi + lo) / 2\n",
    "    if log_to_console:\n",
    "        print(\"high={0}, low={1}, avg={2}\".format(hi, lo, avg))\n",
    "    return avg"
   ]
  },
  {
   "cell_type": "code",
   "execution_count": 29,
   "id": "20317509-71c2-4e7c-b810-89ec8273fb42",
   "metadata": {},
   "outputs": [
    {
     "name": "stdout",
     "output_type": "stream",
     "text": [
      "high=5, low=1, avg=3.0\n",
      "3.0\n"
     ]
    }
   ],
   "source": [
    "is_debug = True\n",
    "avg = calc_hi_lo_avg(1, 2, 3, 4, 5, log_to_console=is_debug)\n",
    "print(avg)"
   ]
  },
  {
   "cell_type": "code",
   "execution_count": 31,
   "id": "bd44deee-14a1-4733-a42a-0f7e3435ec7b",
   "metadata": {},
   "outputs": [],
   "source": [
    "def func(a, *, c, d):\n",
    "    print(a, c, d)"
   ]
  },
  {
   "cell_type": "code",
   "execution_count": 33,
   "id": "b6e3d012-053f-4610-91dd-f47df1afc400",
   "metadata": {},
   "outputs": [
    {
     "name": "stdout",
     "output_type": "stream",
     "text": [
      "15 5 10\n"
     ]
    }
   ],
   "source": [
    "func(c=5,d=10,a=15)"
   ]
  }
 ],
 "metadata": {
  "kernelspec": {
   "display_name": "Python 3 (ipykernel)",
   "language": "python",
   "name": "python3"
  },
  "language_info": {
   "codemirror_mode": {
    "name": "ipython",
    "version": 3
   },
   "file_extension": ".py",
   "mimetype": "text/x-python",
   "name": "python",
   "nbconvert_exporter": "python",
   "pygments_lexer": "ipython3",
   "version": "3.11.2"
  }
 },
 "nbformat": 4,
 "nbformat_minor": 5
}
