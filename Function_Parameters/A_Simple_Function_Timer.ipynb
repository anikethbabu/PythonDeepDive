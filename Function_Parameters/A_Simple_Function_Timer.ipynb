{
 "cells": [
  {
   "cell_type": "markdown",
   "id": "b89f03b4-8ff5-4dfe-aa15-614c6956235e",
   "metadata": {},
   "source": [
    "## A Simple Function Timer"
   ]
  },
  {
   "cell_type": "code",
   "execution_count": 2,
   "id": "5d96ccf9-0723-4de0-89e7-b81ee3b738b5",
   "metadata": {},
   "outputs": [],
   "source": [
    "import time"
   ]
  },
  {
   "cell_type": "code",
   "execution_count": 5,
   "id": "b9a4ef5b-126e-4f3d-ac5d-b0345c8495c3",
   "metadata": {},
   "outputs": [],
   "source": [
    "def time_it(fn, *args, **kwargs):\n",
    "    print(args, kwargs)"
   ]
  },
  {
   "cell_type": "code",
   "execution_count": 6,
   "id": "70b4b7ff-d518-4c19-974c-6fb0bd41a42a",
   "metadata": {},
   "outputs": [
    {
     "name": "stdout",
     "output_type": "stream",
     "text": [
      "(1, 2, 3) {'sep': ' - ', 'end': ' ***'}\n"
     ]
    }
   ],
   "source": [
    "time_it(print, 1, 2, 3, sep=' - ', end= ' ***')"
   ]
  },
  {
   "cell_type": "code",
   "execution_count": 17,
   "id": "3b79db99-6798-42ac-8606-d231790a0f9f",
   "metadata": {},
   "outputs": [],
   "source": [
    "def time_it(fn, *args, rep=1, **kwargs):\n",
    "    for i in range(rep):\n",
    "        fn(*args, **kwargs)"
   ]
  },
  {
   "cell_type": "code",
   "execution_count": 18,
   "id": "f43d5d5a-8f72-4a2f-8393-de324da841f7",
   "metadata": {},
   "outputs": [
    {
     "name": "stdout",
     "output_type": "stream",
     "text": [
      "1 - 2 - 3 ***\n",
      "1 - 2 - 3 ***\n",
      "1 - 2 - 3 ***\n",
      "1 - 2 - 3 ***\n",
      "1 - 2 - 3 ***\n"
     ]
    }
   ],
   "source": [
    "time_it(print, 1, 2, 3, sep=' - ', end= ' ***\\n', rep=5)"
   ]
  },
  {
   "cell_type": "code",
   "execution_count": 19,
   "id": "23e5f7f7-7e72-4947-a527-71f0fdc915bc",
   "metadata": {},
   "outputs": [],
   "source": [
    "def time_it(fn, *args, rep=1, **kwargs):\n",
    "    start = time.perf_counter()\n",
    "    for i in range(rep):\n",
    "        fn(*args, **kwargs)\n",
    "    end = time.perf_counter()\n",
    "    return (end - start) / rep"
   ]
  },
  {
   "cell_type": "code",
   "execution_count": 20,
   "id": "e7783f95-6e80-44e6-8442-d380b7181efc",
   "metadata": {},
   "outputs": [
    {
     "name": "stdout",
     "output_type": "stream",
     "text": [
      "1 - 2 - 3 ***\n",
      "1 - 2 - 3 ***\n",
      "1 - 2 - 3 ***\n",
      "1 - 2 - 3 ***\n",
      "1 - 2 - 3 ***\n"
     ]
    },
    {
     "data": {
      "text/plain": [
       "7.532000017818063e-06"
      ]
     },
     "execution_count": 20,
     "metadata": {},
     "output_type": "execute_result"
    }
   ],
   "source": [
    "time_it(print, 1, 2, 3, sep=' - ', end=' ***\\n', rep=5)"
   ]
  },
  {
   "cell_type": "code",
   "execution_count": 21,
   "id": "d84cdd45-3270-4f5b-b04d-4d8dc09c3eb6",
   "metadata": {},
   "outputs": [],
   "source": [
    "def computer_powers_1(n, *, start=1, end):\n",
    "    # using a for loop\n",
    "    results = []\n",
    "    for i in range(start, end):\n",
    "        results.append(n**i)\n",
    "    return results"
   ]
  },
  {
   "cell_type": "code",
   "execution_count": 22,
   "id": "dc2c9fd2-4151-44f6-a854-2ecb11b5989a",
   "metadata": {},
   "outputs": [
    {
     "data": {
      "text/plain": [
       "[2, 4, 8, 16]"
      ]
     },
     "execution_count": 22,
     "metadata": {},
     "output_type": "execute_result"
    }
   ],
   "source": [
    "computer_powers_1(2, end=5)"
   ]
  },
  {
   "cell_type": "code",
   "execution_count": 27,
   "id": "433b86ea-f519-407d-a96c-5c15d16ebc8b",
   "metadata": {},
   "outputs": [],
   "source": [
    "def computer_powers_2(n, *, start=1, end):\n",
    "    # using a list comprehension\n",
    "    return [n**i for i in range(start, end)]"
   ]
  },
  {
   "cell_type": "code",
   "execution_count": 28,
   "id": "fb0be888-801a-465c-bb0b-345a21189d61",
   "metadata": {},
   "outputs": [
    {
     "data": {
      "text/plain": [
       "[2, 4, 8, 16]"
      ]
     },
     "execution_count": 28,
     "metadata": {},
     "output_type": "execute_result"
    }
   ],
   "source": [
    "computer_powers_2(2, end=5)"
   ]
  },
  {
   "cell_type": "code",
   "execution_count": 43,
   "id": "8ba5acc7-3e43-49ec-bcb3-b90a8ddb61e2",
   "metadata": {},
   "outputs": [],
   "source": [
    "def computer_powers_3(n, *, start=1, end):\n",
    "    # using generators expression\n",
    "    return list((n**i for i in range(start, end)))"
   ]
  },
  {
   "cell_type": "code",
   "execution_count": 44,
   "id": "bd93b31a-b6ce-494a-90ac-a0c161bfcb42",
   "metadata": {},
   "outputs": [
    {
     "data": {
      "text/plain": [
       "[2, 4, 8, 16]"
      ]
     },
     "execution_count": 44,
     "metadata": {},
     "output_type": "execute_result"
    }
   ],
   "source": [
    "list(computer_powers_3(2, end=5))"
   ]
  },
  {
   "cell_type": "code",
   "execution_count": 45,
   "id": "a9813574-cd6f-4087-a2d9-1ac0ff849ac7",
   "metadata": {},
   "outputs": [
    {
     "data": {
      "text/plain": [
       "0.19689957059999869"
      ]
     },
     "execution_count": 45,
     "metadata": {},
     "output_type": "execute_result"
    }
   ],
   "source": [
    "time_it(computer_powers_1, 2, start=0, end=20000, rep=5)"
   ]
  },
  {
   "cell_type": "code",
   "execution_count": 46,
   "id": "9c3dde3a-a509-482a-9971-3ec7fe9c33ca",
   "metadata": {},
   "outputs": [
    {
     "data": {
      "text/plain": [
       "0.19219711759997155"
      ]
     },
     "execution_count": 46,
     "metadata": {},
     "output_type": "execute_result"
    }
   ],
   "source": [
    "time_it(computer_powers_2, n=2, start=0, end=20000, rep=5)"
   ]
  },
  {
   "cell_type": "code",
   "execution_count": 47,
   "id": "48a4b70d-4a3f-4dba-b6a5-6d2033c802dc",
   "metadata": {},
   "outputs": [
    {
     "data": {
      "text/plain": [
       "0.19201462580003864"
      ]
     },
     "execution_count": 47,
     "metadata": {},
     "output_type": "execute_result"
    }
   ],
   "source": [
    "time_it(computer_powers_3, n=2, start=0, end=20000, rep=5)"
   ]
  },
  {
   "cell_type": "code",
   "execution_count": 48,
   "id": "0e14f8bc-268b-4fff-a357-4f7b86cf701e",
   "metadata": {},
   "outputs": [],
   "source": [
    "a = (2**i for i in range(5))"
   ]
  },
  {
   "cell_type": "code",
   "execution_count": 49,
   "id": "51e312dd-2384-4180-88e2-b620e05dd18b",
   "metadata": {},
   "outputs": [
    {
     "data": {
      "text/plain": [
       "<generator object <genexpr> at 0x7f695827b850>"
      ]
     },
     "execution_count": 49,
     "metadata": {},
     "output_type": "execute_result"
    }
   ],
   "source": [
    "a"
   ]
  },
  {
   "cell_type": "code",
   "execution_count": 50,
   "id": "df64ca85-2aef-402a-b181-7e553a731cb1",
   "metadata": {},
   "outputs": [
    {
     "data": {
      "text/plain": [
       "[1, 2, 4, 8, 16]"
      ]
     },
     "execution_count": 50,
     "metadata": {},
     "output_type": "execute_result"
    }
   ],
   "source": [
    "list(a)"
   ]
  },
  {
   "cell_type": "code",
   "execution_count": null,
   "id": "1f89ee8e-86ec-42f3-affa-80e4049439f6",
   "metadata": {},
   "outputs": [],
   "source": []
  }
 ],
 "metadata": {
  "kernelspec": {
   "display_name": "Python 3 (ipykernel)",
   "language": "python",
   "name": "python3"
  },
  "language_info": {
   "codemirror_mode": {
    "name": "ipython",
    "version": 3
   },
   "file_extension": ".py",
   "mimetype": "text/x-python",
   "name": "python",
   "nbconvert_exporter": "python",
   "pygments_lexer": "ipython3",
   "version": "3.11.2"
  }
 },
 "nbformat": 4,
 "nbformat_minor": 5
}
