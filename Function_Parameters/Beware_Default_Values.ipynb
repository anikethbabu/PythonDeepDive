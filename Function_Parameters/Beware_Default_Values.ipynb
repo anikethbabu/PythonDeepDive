{
 "cells": [
  {
   "cell_type": "markdown",
   "id": "049ab4b1-18d4-4780-9631-c207aedee2fb",
   "metadata": {},
   "source": [
    "## Default Values - Beware!!!"
   ]
  },
  {
   "cell_type": "code",
   "execution_count": 1,
   "id": "57b9d26f-d910-4715-9492-56e64dbcf290",
   "metadata": {},
   "outputs": [],
   "source": [
    "from datetime import datetime"
   ]
  },
  {
   "cell_type": "code",
   "execution_count": 2,
   "id": "e72fdcbb-91f0-43e0-bb02-f56b967c1960",
   "metadata": {},
   "outputs": [
    {
     "name": "stdout",
     "output_type": "stream",
     "text": [
      "2023-12-01 20:11:27.003942\n"
     ]
    }
   ],
   "source": [
    "print(datetime.utcnow())"
   ]
  },
  {
   "cell_type": "code",
   "execution_count": 3,
   "id": "f996e811-bdc1-465a-9cb9-13261802b64f",
   "metadata": {},
   "outputs": [
    {
     "name": "stdout",
     "output_type": "stream",
     "text": [
      "2023-12-01 20:11:34.066076\n"
     ]
    }
   ],
   "source": [
    "print(datetime.utcnow())"
   ]
  },
  {
   "cell_type": "code",
   "execution_count": 4,
   "id": "8d1369e8-d9c1-4c37-8793-a458d294f068",
   "metadata": {},
   "outputs": [
    {
     "name": "stdout",
     "output_type": "stream",
     "text": [
      "2023-12-01 20:11:44.378185\n"
     ]
    }
   ],
   "source": [
    "print(datetime.utcnow())"
   ]
  },
  {
   "cell_type": "code",
   "execution_count": 5,
   "id": "b1428d47-26a8-4c9c-8317-acbbeed8e344",
   "metadata": {},
   "outputs": [
    {
     "name": "stdout",
     "output_type": "stream",
     "text": [
      "2023-12-01 20:12:01.894208\n"
     ]
    }
   ],
   "source": [
    "print(datetime.utcnow())"
   ]
  },
  {
   "cell_type": "code",
   "execution_count": 10,
   "id": "76603f15-5bcb-4666-b5d0-7cb650e7f655",
   "metadata": {},
   "outputs": [],
   "source": [
    "def log(msg, *, dt=datetime.utcnow()):\n",
    "    print('{0}: {1}'.format(dt, msg))"
   ]
  },
  {
   "cell_type": "code",
   "execution_count": 12,
   "id": "b196200b-389f-4eef-aa2b-d6370cb8d634",
   "metadata": {},
   "outputs": [
    {
     "name": "stdout",
     "output_type": "stream",
     "text": [
      "2010-09-03 00:00:00.000: message 1\n"
     ]
    }
   ],
   "source": [
    "log('message 1', dt='2010-09-03 00:00:00.000')"
   ]
  },
  {
   "cell_type": "code",
   "execution_count": 13,
   "id": "f0e1613b-5750-4b98-9a11-4caf84c9ed12",
   "metadata": {},
   "outputs": [
    {
     "name": "stdout",
     "output_type": "stream",
     "text": [
      "2023-12-01 20:13:55.983277: message 2\n"
     ]
    }
   ],
   "source": [
    "log('message 2')"
   ]
  },
  {
   "cell_type": "code",
   "execution_count": 14,
   "id": "d60381b5-7e72-4ce2-a2a0-8dffe4cbb91a",
   "metadata": {},
   "outputs": [
    {
     "name": "stdout",
     "output_type": "stream",
     "text": [
      "2023-12-01 20:13:55.983277: message 3\n"
     ]
    }
   ],
   "source": [
    "log('message 3')"
   ]
  },
  {
   "cell_type": "code",
   "execution_count": 15,
   "id": "47d95365-6beb-47bb-8e31-aa645ac1c3fb",
   "metadata": {},
   "outputs": [
    {
     "name": "stdout",
     "output_type": "stream",
     "text": [
      "2023-12-01 20:13:55.983277: message 3\n"
     ]
    }
   ],
   "source": [
    "log('message 3')"
   ]
  },
  {
   "cell_type": "code",
   "execution_count": 16,
   "id": "37b88120-8a3c-459b-9e2d-06b62b0e3f1e",
   "metadata": {},
   "outputs": [
    {
     "name": "stdout",
     "output_type": "stream",
     "text": [
      "2023-12-01 20:13:55.983277: message 3\n"
     ]
    }
   ],
   "source": [
    "log('message 3')"
   ]
  },
  {
   "cell_type": "code",
   "execution_count": 17,
   "id": "2f209101-ea39-4864-b890-969a24f15748",
   "metadata": {},
   "outputs": [
    {
     "name": "stdout",
     "output_type": "stream",
     "text": [
      "2023-12-01 20:13:55.983277: message 3\n"
     ]
    }
   ],
   "source": [
    "log('message 3')"
   ]
  },
  {
   "cell_type": "code",
   "execution_count": 21,
   "id": "e3135242-7d50-4cf9-8346-dc7990aba421",
   "metadata": {},
   "outputs": [],
   "source": [
    "def log(msg, *, dt=None):\n",
    "    dt = dt or datetime.utcnow()\n",
    "#    if not dt:\n",
    "#        dt = datetime.utcnow()\n",
    "    print('{0}: {1}'.format(dt, msg))"
   ]
  },
  {
   "cell_type": "code",
   "execution_count": 22,
   "id": "f46856c5-c5c9-4f90-bee8-130457b9ca31",
   "metadata": {},
   "outputs": [
    {
     "name": "stdout",
     "output_type": "stream",
     "text": [
      "2010-01-01: message 1\n"
     ]
    }
   ],
   "source": [
    "log('message 1', dt='2010-01-01')"
   ]
  },
  {
   "cell_type": "code",
   "execution_count": 23,
   "id": "0b6b068e-bf92-4dc4-bcfb-757af048ed22",
   "metadata": {},
   "outputs": [
    {
     "name": "stdout",
     "output_type": "stream",
     "text": [
      "2023-12-01 20:49:43.933798: message 2\n"
     ]
    }
   ],
   "source": [
    "log('message 2')"
   ]
  },
  {
   "cell_type": "code",
   "execution_count": 24,
   "id": "b6fa3367-df76-422b-8577-683d7951835c",
   "metadata": {},
   "outputs": [
    {
     "name": "stdout",
     "output_type": "stream",
     "text": [
      "2023-12-01 20:49:51.028542: message 2\n"
     ]
    }
   ],
   "source": [
    "log('message 2')"
   ]
  },
  {
   "cell_type": "code",
   "execution_count": 25,
   "id": "e52c95c4-190f-4db3-8391-13fbb83b3693",
   "metadata": {},
   "outputs": [
    {
     "name": "stdout",
     "output_type": "stream",
     "text": [
      "2023-12-01 20:50:38.305808: message 3\n"
     ]
    }
   ],
   "source": [
    "log('message 3', dt=None)"
   ]
  },
  {
   "cell_type": "code",
   "execution_count": 33,
   "id": "4efa1aee-704e-4088-b360-b036dad23fb8",
   "metadata": {},
   "outputs": [],
   "source": [
    "my_list = (1, 2, 3)\n",
    "def func(a=my_list):\n",
    "    print(a)"
   ]
  },
  {
   "cell_type": "code",
   "execution_count": 34,
   "id": "8272195c-571a-47b7-828a-bf85cc010432",
   "metadata": {},
   "outputs": [
    {
     "name": "stdout",
     "output_type": "stream",
     "text": [
      "(1, 2, 3)\n"
     ]
    }
   ],
   "source": [
    "func()"
   ]
  },
  {
   "cell_type": "code",
   "execution_count": 35,
   "id": "712c555f-e907-4cb5-b138-4e71a36e7e36",
   "metadata": {},
   "outputs": [
    {
     "name": "stdout",
     "output_type": "stream",
     "text": [
      "['a', 'b']\n"
     ]
    }
   ],
   "source": [
    "func(['a', 'b'])"
   ]
  },
  {
   "cell_type": "code",
   "execution_count": 36,
   "id": "073226f6-db03-4b23-a753-acd84aafeb74",
   "metadata": {},
   "outputs": [
    {
     "ename": "AttributeError",
     "evalue": "'tuple' object has no attribute 'append'",
     "output_type": "error",
     "traceback": [
      "\u001b[0;31m---------------------------------------------------------------------------\u001b[0m",
      "\u001b[0;31mAttributeError\u001b[0m                            Traceback (most recent call last)",
      "Cell \u001b[0;32mIn[36], line 1\u001b[0m\n\u001b[0;32m----> 1\u001b[0m \u001b[43mmy_list\u001b[49m\u001b[38;5;241;43m.\u001b[39;49m\u001b[43mappend\u001b[49m(\u001b[38;5;241m4\u001b[39m)\n",
      "\u001b[0;31mAttributeError\u001b[0m: 'tuple' object has no attribute 'append'"
     ]
    }
   ],
   "source": [
    "my_list.append(4)"
   ]
  },
  {
   "cell_type": "code",
   "execution_count": 37,
   "id": "5905ead4-edd1-4665-b666-c5c23b2454e2",
   "metadata": {},
   "outputs": [
    {
     "data": {
      "text/plain": [
       "(1, 2, 3)"
      ]
     },
     "execution_count": 37,
     "metadata": {},
     "output_type": "execute_result"
    }
   ],
   "source": [
    "my_list"
   ]
  },
  {
   "cell_type": "code",
   "execution_count": 38,
   "id": "7d4fc296-3b95-462d-878d-bd08438d0209",
   "metadata": {},
   "outputs": [
    {
     "name": "stdout",
     "output_type": "stream",
     "text": [
      "(1, 2, 3)\n"
     ]
    }
   ],
   "source": [
    "func()"
   ]
  },
  {
   "cell_type": "code",
   "execution_count": null,
   "id": "41320275-9d40-46da-8f08-8fd56d506dde",
   "metadata": {},
   "outputs": [],
   "source": []
  }
 ],
 "metadata": {
  "kernelspec": {
   "display_name": "Python 3 (ipykernel)",
   "language": "python",
   "name": "python3"
  },
  "language_info": {
   "codemirror_mode": {
    "name": "ipython",
    "version": 3
   },
   "file_extension": ".py",
   "mimetype": "text/x-python",
   "name": "python",
   "nbconvert_exporter": "python",
   "pygments_lexer": "ipython3",
   "version": "3.11.2"
  }
 },
 "nbformat": 4,
 "nbformat_minor": 5
}
