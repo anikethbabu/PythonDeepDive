{
 "cells": [
  {
   "cell_type": "markdown",
   "id": "08fdeb2e-0df2-46c6-84fa-4d99ad73b8e2",
   "metadata": {},
   "source": [
    "## Keyword Arguments"
   ]
  },
  {
   "cell_type": "code",
   "execution_count": 2,
   "id": "f2d54b0b-357b-4cba-98da-48bc4f6cd307",
   "metadata": {},
   "outputs": [],
   "source": [
    "def func1(a, b, c):\n",
    "    print(a, b, c)"
   ]
  },
  {
   "cell_type": "code",
   "execution_count": 3,
   "id": "1ea23b1b-aa91-4c7b-a3de-90f893523a43",
   "metadata": {},
   "outputs": [
    {
     "name": "stdout",
     "output_type": "stream",
     "text": [
      "1 2 3\n"
     ]
    }
   ],
   "source": [
    "func1(1, 2, 3)"
   ]
  },
  {
   "cell_type": "code",
   "execution_count": 5,
   "id": "50dc3660-24c1-4190-ace7-6f3e55a916c5",
   "metadata": {},
   "outputs": [
    {
     "name": "stdout",
     "output_type": "stream",
     "text": [
      "1 2 3\n"
     ]
    }
   ],
   "source": [
    "func1(1, c=3, b=2)"
   ]
  },
  {
   "cell_type": "code",
   "execution_count": 6,
   "id": "a4a614fb-e445-4039-9711-fd8e15437be7",
   "metadata": {},
   "outputs": [
    {
     "name": "stdout",
     "output_type": "stream",
     "text": [
      "1 2 3\n"
     ]
    }
   ],
   "source": [
    "func1(c=3, b=2, a=1)"
   ]
  },
  {
   "cell_type": "code",
   "execution_count": 7,
   "id": "24cf2424-4cb5-4ef8-bcd9-7dd1bd60ed3d",
   "metadata": {},
   "outputs": [],
   "source": [
    "def func1(a, b, *args):\n",
    "    print(a, b, args)"
   ]
  },
  {
   "cell_type": "code",
   "execution_count": 8,
   "id": "90b6de7f-2f2c-467c-a519-7ab637906a83",
   "metadata": {},
   "outputs": [
    {
     "name": "stdout",
     "output_type": "stream",
     "text": [
      "1 2 (3, 4)\n"
     ]
    }
   ],
   "source": [
    "func1(1, 2, 3, 4)"
   ]
  },
  {
   "cell_type": "code",
   "execution_count": 13,
   "id": "95da922f-0781-4731-9c2f-9fa094b2241f",
   "metadata": {},
   "outputs": [],
   "source": [
    "def func1(a, b, *args):\n",
    "    print(a, b, args)"
   ]
  },
  {
   "cell_type": "code",
   "execution_count": 14,
   "id": "3a464ff0-8bde-4575-86a6-0c32f5f23d3d",
   "metadata": {},
   "outputs": [
    {
     "name": "stdout",
     "output_type": "stream",
     "text": [
      "1 2 (3, 4)\n"
     ]
    }
   ],
   "source": [
    "func1(1, 2, 3, 4)"
   ]
  },
  {
   "cell_type": "code",
   "execution_count": 15,
   "id": "a41dc17a-0a77-4ad6-933e-eac8b55da60f",
   "metadata": {},
   "outputs": [],
   "source": [
    "def func1(a, b, *args, d):\n",
    "    print(a, b, args, d)"
   ]
  },
  {
   "cell_type": "code",
   "execution_count": 16,
   "id": "0701cbbe-cd91-429d-afbb-8e1a25520603",
   "metadata": {},
   "outputs": [
    {
     "name": "stdout",
     "output_type": "stream",
     "text": [
      "1 2 (3, 4) 5\n"
     ]
    }
   ],
   "source": [
    "func1(1, 2, 3, 4, d=5)"
   ]
  },
  {
   "cell_type": "code",
   "execution_count": 17,
   "id": "4979d65d-8f11-4561-a296-91c8055e97cd",
   "metadata": {},
   "outputs": [],
   "source": [
    "def func1(*args, d):\n",
    "    print(args, d)"
   ]
  },
  {
   "cell_type": "code",
   "execution_count": 18,
   "id": "1340fd04-0cdf-4de0-b428-4c4b7f009202",
   "metadata": {},
   "outputs": [
    {
     "name": "stdout",
     "output_type": "stream",
     "text": [
      "(1, 2, 3) a\n"
     ]
    }
   ],
   "source": [
    "func1(1, 2, 3, d='a')"
   ]
  },
  {
   "cell_type": "code",
   "execution_count": 19,
   "id": "95a278d5-ca2b-4f89-9a47-633ca3b7e0cc",
   "metadata": {},
   "outputs": [
    {
     "name": "stdout",
     "output_type": "stream",
     "text": [
      "() a\n"
     ]
    }
   ],
   "source": [
    "func1(d='a')"
   ]
  },
  {
   "cell_type": "code",
   "execution_count": 20,
   "id": "b41c5f45-9323-45af-9f6b-290eccd392ab",
   "metadata": {},
   "outputs": [],
   "source": [
    "def func(*, d):\n",
    "    print(d)"
   ]
  },
  {
   "cell_type": "code",
   "execution_count": 22,
   "id": "856be97f-bbac-49a5-b459-9b2d7809465f",
   "metadata": {},
   "outputs": [
    {
     "name": "stdout",
     "output_type": "stream",
     "text": [
      "100\n"
     ]
    }
   ],
   "source": [
    "func(d=100)"
   ]
  },
  {
   "cell_type": "code",
   "execution_count": 23,
   "id": "616aa97c-7d44-4fd6-8d72-933bb07734f9",
   "metadata": {},
   "outputs": [],
   "source": [
    "def func(a, b, *, d):\n",
    "    print(a, b, d)"
   ]
  },
  {
   "cell_type": "code",
   "execution_count": 25,
   "id": "f4fc7172-c919-4e3d-9989-3da2c33bc31c",
   "metadata": {},
   "outputs": [
    {
     "name": "stdout",
     "output_type": "stream",
     "text": [
      "1 2 4\n"
     ]
    }
   ],
   "source": [
    "func(1, 2, d=4)"
   ]
  },
  {
   "cell_type": "code",
   "execution_count": 27,
   "id": "e4da6ca1-0d4b-4968-b5e4-b71dfd604bd1",
   "metadata": {},
   "outputs": [],
   "source": [
    "def func(a, b=2, *args, d):\n",
    "    print(a, b, args, d)"
   ]
  },
  {
   "cell_type": "code",
   "execution_count": 29,
   "id": "4f80b334-7935-4251-b0d9-9d9ee25a37c9",
   "metadata": {},
   "outputs": [
    {
     "name": "stdout",
     "output_type": "stream",
     "text": [
      "1 5 (3, 4) a\n"
     ]
    }
   ],
   "source": [
    "func(1, 5, 3, 4, d='a')"
   ]
  },
  {
   "cell_type": "code",
   "execution_count": 33,
   "id": "ed133d7a-5e7b-4b03-be93-ecffdabd0936",
   "metadata": {},
   "outputs": [],
   "source": [
    "def func(a, b=20, *args, d=0, e):\n",
    "    print(a, b, args, d, e)"
   ]
  },
  {
   "cell_type": "code",
   "execution_count": 35,
   "id": "8ab2e86c-665b-4577-b7e6-6cf73cb7ef9a",
   "metadata": {},
   "outputs": [
    {
     "name": "stdout",
     "output_type": "stream",
     "text": [
      "5 4 (3, 2, 1) 0 all engines running\n"
     ]
    }
   ],
   "source": [
    "func(5, 4, 3, 2, 1, e = 'all engines running')"
   ]
  },
  {
   "cell_type": "code",
   "execution_count": 36,
   "id": "badb50cc-a968-44b5-a5e4-ea8587f8f4d7",
   "metadata": {},
   "outputs": [
    {
     "name": "stdout",
     "output_type": "stream",
     "text": [
      "0 600 () good morning python!\n"
     ]
    }
   ],
   "source": [
    "func(0, 600, d='good morning', e='python!')"
   ]
  },
  {
   "cell_type": "code",
   "execution_count": 37,
   "id": "52cc9bca-bbcb-4db3-8009-814986470377",
   "metadata": {},
   "outputs": [
    {
     "name": "stdout",
     "output_type": "stream",
     "text": [
      "11 m/s (24, 'mph') unladen swallow\n"
     ]
    }
   ],
   "source": [
    "func(11, 'm/s', 24, 'mph', d='unladen', e='swallow')"
   ]
  },
  {
   "cell_type": "code",
   "execution_count": null,
   "id": "1765ae4a-bf29-4583-bad3-d9c56eb1263b",
   "metadata": {},
   "outputs": [],
   "source": []
  }
 ],
 "metadata": {
  "kernelspec": {
   "display_name": "Python 3 (ipykernel)",
   "language": "python",
   "name": "python3"
  },
  "language_info": {
   "codemirror_mode": {
    "name": "ipython",
    "version": 3
   },
   "file_extension": ".py",
   "mimetype": "text/x-python",
   "name": "python",
   "nbconvert_exporter": "python",
   "pygments_lexer": "ipython3",
   "version": "3.11.2"
  }
 },
 "nbformat": 4,
 "nbformat_minor": 5
}
