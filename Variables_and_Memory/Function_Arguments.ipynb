{
 "cells": [
  {
   "cell_type": "code",
   "execution_count": 1,
   "id": "c338a4b3-489d-4706-a840-11292e33f8ea",
   "metadata": {},
   "outputs": [],
   "source": [
    "def process(s):\n",
    "    print('Initial s # = {0}'.format(id(s)))\n",
    "    s = s + 'world'\n",
    "    print('Final s # = {0}'.format(id(s)))"
   ]
  },
  {
   "cell_type": "code",
   "execution_count": 2,
   "id": "922368bb-a9f9-4f05-9f1d-a5d3152e34fc",
   "metadata": {},
   "outputs": [
    {
     "name": "stdout",
     "output_type": "stream",
     "text": [
      "my_var # = 140328441943728\n"
     ]
    }
   ],
   "source": [
    "my_var = 'hello'\n",
    "print('my_var # = {0}'.format(id(my_var)))"
   ]
  },
  {
   "cell_type": "code",
   "execution_count": 3,
   "id": "24169074-9806-4dd8-8256-8e0aefc4f14d",
   "metadata": {},
   "outputs": [
    {
     "name": "stdout",
     "output_type": "stream",
     "text": [
      "Initial s # = 140328441943728\n",
      "Final s # = 140328436554160\n"
     ]
    }
   ],
   "source": [
    "process(my_var)"
   ]
  },
  {
   "cell_type": "code",
   "execution_count": 4,
   "id": "557c3c82-40c6-4d1f-8d69-accc52283e93",
   "metadata": {},
   "outputs": [
    {
     "data": {
      "text/plain": [
       "140328441943728"
      ]
     },
     "execution_count": 4,
     "metadata": {},
     "output_type": "execute_result"
    }
   ],
   "source": [
    "id(my_var)"
   ]
  },
  {
   "cell_type": "code",
   "execution_count": 5,
   "id": "ed91e08b-3412-48f8-be90-06fb7cb03d99",
   "metadata": {},
   "outputs": [
    {
     "data": {
      "text/plain": [
       "'hello'"
      ]
     },
     "execution_count": 5,
     "metadata": {},
     "output_type": "execute_result"
    }
   ],
   "source": [
    "my_var"
   ]
  },
  {
   "cell_type": "code",
   "execution_count": 7,
   "id": "a8912612-eafd-47a9-91b9-2148131312d2",
   "metadata": {},
   "outputs": [],
   "source": [
    "def modify_list(lst):\n",
    "    print('Initial lst # = {0}'.format(id(lst)))\n",
    "    lst.append(100)\n",
    "    print('Final lst # = {0}'.format(id(lst)))"
   ]
  },
  {
   "cell_type": "code",
   "execution_count": 8,
   "id": "1817ee21-4816-42dc-a371-4632af4e47b7",
   "metadata": {},
   "outputs": [
    {
     "data": {
      "text/plain": [
       "140328436672512"
      ]
     },
     "execution_count": 8,
     "metadata": {},
     "output_type": "execute_result"
    }
   ],
   "source": [
    "my_list = [1,2,3]\n",
    "id(my_list)"
   ]
  },
  {
   "cell_type": "code",
   "execution_count": 9,
   "id": "aecdc925-a435-4ca7-8aaa-deab7a6f24dd",
   "metadata": {},
   "outputs": [
    {
     "name": "stdout",
     "output_type": "stream",
     "text": [
      "Initial lst = 140328436672512\n",
      "Final lst # = 140328436672512\n"
     ]
    }
   ],
   "source": [
    "modify_list(my_list)"
   ]
  },
  {
   "cell_type": "code",
   "execution_count": 10,
   "id": "7c2253c6-a0fd-46e6-83ca-7af5c96deb99",
   "metadata": {},
   "outputs": [
    {
     "data": {
      "text/plain": [
       "140328436672512"
      ]
     },
     "execution_count": 10,
     "metadata": {},
     "output_type": "execute_result"
    }
   ],
   "source": [
    "id(my_list)"
   ]
  },
  {
   "cell_type": "code",
   "execution_count": 11,
   "id": "5cb672e2-9ab6-4bd3-b3b4-9f3316a4e67a",
   "metadata": {},
   "outputs": [
    {
     "name": "stdout",
     "output_type": "stream",
     "text": [
      "[1, 2, 3, 100]\n"
     ]
    }
   ],
   "source": [
    "print(my_list)"
   ]
  },
  {
   "cell_type": "code",
   "execution_count": 19,
   "id": "36166919-f52a-45a1-978f-d5f238e2ed66",
   "metadata": {},
   "outputs": [],
   "source": [
    "def modify_tuple(t):\n",
    "    print('Initial t # = {0}'.format(id(t)))\n",
    "    t[0].append(100)\n",
    "    print('Final t # = {0}'.format(id(t)))"
   ]
  },
  {
   "cell_type": "code",
   "execution_count": 20,
   "id": "ec0b02c4-fa03-4a16-8431-74c1fadd487c",
   "metadata": {},
   "outputs": [],
   "source": [
    "my_tuple = ([1,2], 'a')"
   ]
  },
  {
   "cell_type": "code",
   "execution_count": 21,
   "id": "0ffd8076-6732-4f9b-b559-33fe2b6212f7",
   "metadata": {},
   "outputs": [
    {
     "data": {
      "text/plain": [
       "140328136828288"
      ]
     },
     "execution_count": 21,
     "metadata": {},
     "output_type": "execute_result"
    }
   ],
   "source": [
    "id(my_tuple)"
   ]
  },
  {
   "cell_type": "code",
   "execution_count": 22,
   "id": "25dfc4b3-af14-48ec-a9e5-a2496f2f2c75",
   "metadata": {},
   "outputs": [
    {
     "name": "stdout",
     "output_type": "stream",
     "text": [
      "Initial t # = 140328136828288\n",
      "Final t # = 140328136828288\n"
     ]
    }
   ],
   "source": [
    "modify_tuple(my_tuple)"
   ]
  },
  {
   "cell_type": "code",
   "execution_count": 23,
   "id": "887d5d0f-7aec-4918-a1c0-89e8d7944eb5",
   "metadata": {},
   "outputs": [
    {
     "data": {
      "text/plain": [
       "([1, 2, 100], 'a')"
      ]
     },
     "execution_count": 23,
     "metadata": {},
     "output_type": "execute_result"
    }
   ],
   "source": [
    "my_tuple"
   ]
  },
  {
   "cell_type": "code",
   "execution_count": null,
   "id": "12919827-0c46-4fc0-86a5-973809badc00",
   "metadata": {},
   "outputs": [],
   "source": []
  }
 ],
 "metadata": {
  "kernelspec": {
   "display_name": "Python 3 (ipykernel)",
   "language": "python",
   "name": "python3"
  },
  "language_info": {
   "codemirror_mode": {
    "name": "ipython",
    "version": 3
   },
   "file_extension": ".py",
   "mimetype": "text/x-python",
   "name": "python",
   "nbconvert_exporter": "python",
   "pygments_lexer": "ipython3",
   "version": "3.11.2"
  }
 },
 "nbformat": 4,
 "nbformat_minor": 5
}
