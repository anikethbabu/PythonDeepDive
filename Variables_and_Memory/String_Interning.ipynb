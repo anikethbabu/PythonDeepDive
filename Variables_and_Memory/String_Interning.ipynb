{
 "cells": [
  {
   "cell_type": "code",
   "execution_count": 4,
   "id": "b6ec2102-6278-4e38-9874-6d31eda44da7",
   "metadata": {},
   "outputs": [],
   "source": [
    "a = 'hello'\n",
    "b = 'hello'"
   ]
  },
  {
   "cell_type": "code",
   "execution_count": 5,
   "id": "5887517a-58c3-43b0-a46d-a0f8f494e866",
   "metadata": {},
   "outputs": [
    {
     "name": "stdout",
     "output_type": "stream",
     "text": [
      "139720577242672 139720577242672\n"
     ]
    }
   ],
   "source": [
    "print(id(a), id(b))"
   ]
  },
  {
   "cell_type": "code",
   "execution_count": 6,
   "id": "7b9f7601-3fd4-4666-a5d9-6d4eac5d3438",
   "metadata": {},
   "outputs": [],
   "source": [
    "a = 'hello world'\n",
    "b = 'hello world'"
   ]
  },
  {
   "cell_type": "code",
   "execution_count": 7,
   "id": "88ef12ef-ee01-4939-ae59-ca79c57d5dcb",
   "metadata": {},
   "outputs": [
    {
     "name": "stdout",
     "output_type": "stream",
     "text": [
      "139720571874608 139720571872432\n"
     ]
    }
   ],
   "source": [
    "print(id(a), id(b))"
   ]
  },
  {
   "cell_type": "code",
   "execution_count": 8,
   "id": "2da00043-60a1-4182-b831-fc981374d71b",
   "metadata": {},
   "outputs": [
    {
     "data": {
      "text/plain": [
       "True"
      ]
     },
     "execution_count": 8,
     "metadata": {},
     "output_type": "execute_result"
    }
   ],
   "source": [
    "a == b"
   ]
  },
  {
   "cell_type": "code",
   "execution_count": 9,
   "id": "6458017d-21a7-463a-a847-4e2dd4c29c52",
   "metadata": {},
   "outputs": [
    {
     "data": {
      "text/plain": [
       "False"
      ]
     },
     "execution_count": 9,
     "metadata": {},
     "output_type": "execute_result"
    }
   ],
   "source": [
    "a is b"
   ]
  },
  {
   "cell_type": "code",
   "execution_count": 10,
   "id": "958a980f-b737-43ac-b64e-4f73322c969a",
   "metadata": {},
   "outputs": [
    {
     "data": {
      "text/plain": [
       "True"
      ]
     },
     "execution_count": 10,
     "metadata": {},
     "output_type": "execute_result"
    }
   ],
   "source": [
    "a = 'hello'\n",
    "b = 'hello'\n",
    "a == b"
   ]
  },
  {
   "cell_type": "code",
   "execution_count": 11,
   "id": "4b0eac08-998e-4217-8bb5-59f056f67c0c",
   "metadata": {},
   "outputs": [
    {
     "data": {
      "text/plain": [
       "True"
      ]
     },
     "execution_count": 11,
     "metadata": {},
     "output_type": "execute_result"
    }
   ],
   "source": [
    "a is b"
   ]
  },
  {
   "cell_type": "code",
   "execution_count": 14,
   "id": "177e3c68-48ae-4cfe-9b82-8373d2bcf758",
   "metadata": {},
   "outputs": [],
   "source": [
    "a = '_this_is_a_long_string_that_could_be_user_as_an_identifier'"
   ]
  },
  {
   "cell_type": "code",
   "execution_count": 15,
   "id": "902d6481-231b-47b4-b9e7-47fcd371bc74",
   "metadata": {},
   "outputs": [],
   "source": [
    "b = '_this_is_a_long_string_that_could_be_user_as_an_identifier'"
   ]
  },
  {
   "cell_type": "code",
   "execution_count": 16,
   "id": "f0b70c81-f638-4c72-8341-f598775ad153",
   "metadata": {},
   "outputs": [
    {
     "data": {
      "text/plain": [
       "True"
      ]
     },
     "execution_count": 16,
     "metadata": {},
     "output_type": "execute_result"
    }
   ],
   "source": [
    "a is b"
   ]
  },
  {
   "cell_type": "code",
   "execution_count": 17,
   "id": "7ea2e02f-a9a2-45b0-911a-763a87f179f6",
   "metadata": {},
   "outputs": [],
   "source": [
    "import sys"
   ]
  },
  {
   "cell_type": "code",
   "execution_count": 18,
   "id": "945a401c-f0c2-47c5-a283-9792abf987db",
   "metadata": {},
   "outputs": [],
   "source": [
    "a = sys.intern('hello world')"
   ]
  },
  {
   "cell_type": "code",
   "execution_count": 19,
   "id": "c6d83176-c870-4069-ace3-f983a233c56c",
   "metadata": {},
   "outputs": [],
   "source": [
    "b = sys.intern('hello world')"
   ]
  },
  {
   "cell_type": "code",
   "execution_count": 20,
   "id": "f842edde-d10b-44ad-a8e1-7c18f8c1bb75",
   "metadata": {},
   "outputs": [],
   "source": [
    "c = 'hello world'"
   ]
  },
  {
   "cell_type": "code",
   "execution_count": 21,
   "id": "0196e30c-0618-449a-b696-979781cf3cc6",
   "metadata": {},
   "outputs": [
    {
     "name": "stdout",
     "output_type": "stream",
     "text": [
      "139720274561392 139720274561392 139720274568432\n"
     ]
    }
   ],
   "source": [
    "print(id(a), id(b), id(c))"
   ]
  },
  {
   "cell_type": "code",
   "execution_count": 22,
   "id": "f198bb9a-dc29-47bc-8205-87541832f5be",
   "metadata": {},
   "outputs": [
    {
     "data": {
      "text/plain": [
       "True"
      ]
     },
     "execution_count": 22,
     "metadata": {},
     "output_type": "execute_result"
    }
   ],
   "source": [
    "a == b"
   ]
  },
  {
   "cell_type": "code",
   "execution_count": 23,
   "id": "294530ec-f6e0-47f9-a15f-2be3df459220",
   "metadata": {},
   "outputs": [
    {
     "data": {
      "text/plain": [
       "True"
      ]
     },
     "execution_count": 23,
     "metadata": {},
     "output_type": "execute_result"
    }
   ],
   "source": [
    "a is b"
   ]
  },
  {
   "cell_type": "code",
   "execution_count": 30,
   "id": "d965e71d-2678-426f-aba0-90fd49a37094",
   "metadata": {},
   "outputs": [],
   "source": [
    "def compare_using_equals(n):\n",
    "    a = 'a long string that is not interned' * 200\n",
    "    b = 'a long string that is not interned' * 200\n",
    "    for i in range(n):\n",
    "        if a == b:\n",
    "            pass"
   ]
  },
  {
   "cell_type": "code",
   "execution_count": 31,
   "id": "388d0c46-3a2d-4e01-9429-07a6fe5cc8d7",
   "metadata": {},
   "outputs": [],
   "source": [
    "def compare_using_interning(n):\n",
    "    a = sys.intern('a long string that is not interned' * 200)\n",
    "    b = sys.intern('a long string that is not interned' * 200)\n",
    "    for i in range(n):\n",
    "        if a is b:\n",
    "            pass"
   ]
  },
  {
   "cell_type": "code",
   "execution_count": 32,
   "id": "d125e56b-ac56-46df-98f6-91352646cef7",
   "metadata": {},
   "outputs": [],
   "source": [
    "import time"
   ]
  },
  {
   "cell_type": "code",
   "execution_count": 35,
   "id": "5b3ba27a-8daa-493a-ae39-1bc498b2c803",
   "metadata": {},
   "outputs": [
    {
     "name": "stdout",
     "output_type": "stream",
     "text": [
      "equality 7.651312891997804\n"
     ]
    }
   ],
   "source": [
    "start = time.perf_counter()\n",
    "compare_using_equals(100000000)\n",
    "end = time.perf_counter()\n",
    "print('equality', end - start)"
   ]
  },
  {
   "cell_type": "code",
   "execution_count": 36,
   "id": "df41e021-878b-41fc-83b5-4c2856cc87a5",
   "metadata": {},
   "outputs": [
    {
     "name": "stdout",
     "output_type": "stream",
     "text": [
      "interning 1.3184715259994846\n"
     ]
    }
   ],
   "source": [
    "start = time.perf_counter()\n",
    "compare_using_interning(100000000)\n",
    "end = time.perf_counter()\n",
    "print('interning', end - start)"
   ]
  }
 ],
 "metadata": {
  "kernelspec": {
   "display_name": "Python 3 (ipykernel)",
   "language": "python",
   "name": "python3"
  },
  "language_info": {
   "codemirror_mode": {
    "name": "ipython",
    "version": 3
   },
   "file_extension": ".py",
   "mimetype": "text/x-python",
   "name": "python",
   "nbconvert_exporter": "python",
   "pygments_lexer": "ipython3",
   "version": "3.11.2"
  }
 },
 "nbformat": 4,
 "nbformat_minor": 5
}
