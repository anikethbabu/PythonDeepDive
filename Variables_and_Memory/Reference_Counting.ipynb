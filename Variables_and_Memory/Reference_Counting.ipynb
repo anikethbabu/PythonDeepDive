{
 "cells": [
  {
   "cell_type": "code",
   "execution_count": 8,
   "id": "6ac5aad7-847d-434d-9e40-a9a287775924",
   "metadata": {},
   "outputs": [],
   "source": [
    "import sys"
   ]
  },
  {
   "cell_type": "code",
   "execution_count": 9,
   "id": "43dd705d-ccb2-43dc-b943-9e532b6bc776",
   "metadata": {},
   "outputs": [],
   "source": [
    "a = [1, 2, 3]"
   ]
  },
  {
   "cell_type": "code",
   "execution_count": 10,
   "id": "2afdc8c7-443c-4a74-99ee-18847b0ada6e",
   "metadata": {},
   "outputs": [
    {
     "data": {
      "text/plain": [
       "140298682688512"
      ]
     },
     "execution_count": 10,
     "metadata": {},
     "output_type": "execute_result"
    }
   ],
   "source": [
    "id(a)"
   ]
  },
  {
   "cell_type": "code",
   "execution_count": 11,
   "id": "4e7e7969-7184-4ce1-b436-70adbcebb925",
   "metadata": {},
   "outputs": [
    {
     "data": {
      "text/plain": [
       "2"
      ]
     },
     "execution_count": 11,
     "metadata": {},
     "output_type": "execute_result"
    }
   ],
   "source": [
    "sys.getrefcount(a)"
   ]
  },
  {
   "cell_type": "code",
   "execution_count": 12,
   "id": "d037441c-5fc0-4800-a18c-6e282278b156",
   "metadata": {},
   "outputs": [],
   "source": [
    "import ctypes"
   ]
  },
  {
   "cell_type": "code",
   "execution_count": 15,
   "id": "d608ab43-d88a-4e03-8229-afb7a2b2ca71",
   "metadata": {},
   "outputs": [],
   "source": [
    "def ref_count(address: int):\n",
    "    return ctypes.c_long.from_address(address).value"
   ]
  },
  {
   "cell_type": "code",
   "execution_count": 16,
   "id": "8791e0ab-56b6-4fd4-beae-0e0111897768",
   "metadata": {},
   "outputs": [
    {
     "data": {
      "text/plain": [
       "1"
      ]
     },
     "execution_count": 16,
     "metadata": {},
     "output_type": "execute_result"
    }
   ],
   "source": [
    "ref_count(id(a))"
   ]
  },
  {
   "cell_type": "code",
   "execution_count": 17,
   "id": "93a1dbfc-c836-4724-af71-bc0a708e2872",
   "metadata": {},
   "outputs": [],
   "source": [
    "b = a"
   ]
  },
  {
   "cell_type": "code",
   "execution_count": 18,
   "id": "bf30caaa-5154-456e-986e-ee17757ce227",
   "metadata": {},
   "outputs": [
    {
     "data": {
      "text/plain": [
       "140298682688512"
      ]
     },
     "execution_count": 18,
     "metadata": {},
     "output_type": "execute_result"
    }
   ],
   "source": [
    "id(b)"
   ]
  },
  {
   "cell_type": "code",
   "execution_count": 19,
   "id": "882cd9b6-ad9e-4346-be3d-a58888cc3a49",
   "metadata": {},
   "outputs": [
    {
     "data": {
      "text/plain": [
       "140298682688512"
      ]
     },
     "execution_count": 19,
     "metadata": {},
     "output_type": "execute_result"
    }
   ],
   "source": [
    "id(a)"
   ]
  },
  {
   "cell_type": "code",
   "execution_count": 20,
   "id": "19a4ef12-dbf0-4f78-bd9b-02894b83e8f9",
   "metadata": {},
   "outputs": [
    {
     "data": {
      "text/plain": [
       "2"
      ]
     },
     "execution_count": 20,
     "metadata": {},
     "output_type": "execute_result"
    }
   ],
   "source": [
    "ref_count(id(a))"
   ]
  },
  {
   "cell_type": "code",
   "execution_count": 21,
   "id": "7b56879f-d14b-4de2-b383-b3b17dc60a99",
   "metadata": {},
   "outputs": [],
   "source": [
    "c = a"
   ]
  },
  {
   "cell_type": "code",
   "execution_count": 22,
   "id": "8ea3618e-a8e7-4749-922a-c8b483d952e2",
   "metadata": {},
   "outputs": [
    {
     "data": {
      "text/plain": [
       "3"
      ]
     },
     "execution_count": 22,
     "metadata": {},
     "output_type": "execute_result"
    }
   ],
   "source": [
    "ref_count(id(a))"
   ]
  },
  {
   "cell_type": "code",
   "execution_count": 23,
   "id": "d682be1b-6ed3-452f-abfb-053a41cf67b8",
   "metadata": {},
   "outputs": [],
   "source": [
    "c = 10"
   ]
  },
  {
   "cell_type": "code",
   "execution_count": 24,
   "id": "0e8c3dcb-1608-4cad-9f9e-6e96aa303ab5",
   "metadata": {},
   "outputs": [
    {
     "data": {
      "text/plain": [
       "2"
      ]
     },
     "execution_count": 24,
     "metadata": {},
     "output_type": "execute_result"
    }
   ],
   "source": [
    "ref_count(id(a))"
   ]
  },
  {
   "cell_type": "code",
   "execution_count": 25,
   "id": "31bb0540-8b75-486a-83d2-60894505b208",
   "metadata": {},
   "outputs": [],
   "source": [
    "b = None"
   ]
  },
  {
   "cell_type": "code",
   "execution_count": 26,
   "id": "5245f859-f845-4b99-b31c-0a8a6ce8bbb8",
   "metadata": {},
   "outputs": [
    {
     "data": {
      "text/plain": [
       "1"
      ]
     },
     "execution_count": 26,
     "metadata": {},
     "output_type": "execute_result"
    }
   ],
   "source": [
    "ref_count(id(a))"
   ]
  },
  {
   "cell_type": "code",
   "execution_count": 27,
   "id": "a63d8201-5c7a-4cdc-a79a-80fb1b2df532",
   "metadata": {},
   "outputs": [
    {
     "data": {
      "text/plain": [
       "9804992"
      ]
     },
     "execution_count": 27,
     "metadata": {},
     "output_type": "execute_result"
    }
   ],
   "source": [
    "id(b)"
   ]
  },
  {
   "cell_type": "code",
   "execution_count": 28,
   "id": "8cea53ce-62c5-42eb-bfff-189e16b353c9",
   "metadata": {},
   "outputs": [],
   "source": [
    "a_id = id(a)"
   ]
  },
  {
   "cell_type": "code",
   "execution_count": 29,
   "id": "e9ae5039-5344-425c-be05-b1872b3a682e",
   "metadata": {},
   "outputs": [],
   "source": [
    "a = None"
   ]
  },
  {
   "cell_type": "code",
   "execution_count": 45,
   "id": "43e82559-b18e-415a-bc61-dd33add944a9",
   "metadata": {},
   "outputs": [
    {
     "data": {
      "text/plain": [
       "6"
      ]
     },
     "execution_count": 45,
     "metadata": {},
     "output_type": "execute_result"
    }
   ],
   "source": [
    "ref_count(a_id)"
   ]
  },
  {
   "cell_type": "code",
   "execution_count": null,
   "id": "aa35b0e2-381d-4f70-ba55-e75a09d16504",
   "metadata": {},
   "outputs": [],
   "source": []
  }
 ],
 "metadata": {
  "kernelspec": {
   "display_name": "Python 3 (ipykernel)",
   "language": "python",
   "name": "python3"
  },
  "language_info": {
   "codemirror_mode": {
    "name": "ipython",
    "version": 3
   },
   "file_extension": ".py",
   "mimetype": "text/x-python",
   "name": "python",
   "nbconvert_exporter": "python",
   "pygments_lexer": "ipython3",
   "version": "3.11.2"
  }
 },
 "nbformat": 4,
 "nbformat_minor": 5
}
