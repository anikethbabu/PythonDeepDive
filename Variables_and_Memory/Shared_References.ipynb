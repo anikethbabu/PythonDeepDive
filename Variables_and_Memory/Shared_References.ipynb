{
 "cells": [
  {
   "cell_type": "code",
   "execution_count": 1,
   "id": "ae7b33ff-14c2-4f69-b06f-261daa7680ca",
   "metadata": {},
   "outputs": [],
   "source": [
    "a = \"hello\"\n",
    "b = a"
   ]
  },
  {
   "cell_type": "code",
   "execution_count": 9,
   "id": "3ef9855b-e4a0-4d55-b4a4-120913dfaab4",
   "metadata": {},
   "outputs": [
    {
     "data": {
      "text/plain": [
       "'0x7ffb39d45770'"
      ]
     },
     "execution_count": 9,
     "metadata": {},
     "output_type": "execute_result"
    }
   ],
   "source": [
    "hex(id(a))"
   ]
  },
  {
   "cell_type": "code",
   "execution_count": 10,
   "id": "e024755c-d9d0-4e20-9a10-01c5acf177d5",
   "metadata": {},
   "outputs": [
    {
     "data": {
      "text/plain": [
       "'0x7ffb39d45770'"
      ]
     },
     "execution_count": 10,
     "metadata": {},
     "output_type": "execute_result"
    }
   ],
   "source": [
    "hex(id(b))"
   ]
  },
  {
   "cell_type": "code",
   "execution_count": 8,
   "id": "5f5ff2d8-0485-42a3-b7e3-885f2b3ee1a1",
   "metadata": {},
   "outputs": [],
   "source": [
    "a = \"hello\""
   ]
  },
  {
   "cell_type": "code",
   "execution_count": 11,
   "id": "e34a96ae-db54-439c-af9a-fa39acd4c277",
   "metadata": {},
   "outputs": [],
   "source": [
    "b = \"hello\""
   ]
  },
  {
   "cell_type": "code",
   "execution_count": 12,
   "id": "2fb64210-f1ef-442b-ac68-f1b4f84c862f",
   "metadata": {},
   "outputs": [
    {
     "data": {
      "text/plain": [
       "'0x7ffb39d45770'"
      ]
     },
     "execution_count": 12,
     "metadata": {},
     "output_type": "execute_result"
    }
   ],
   "source": [
    "hex(id(a))"
   ]
  },
  {
   "cell_type": "code",
   "execution_count": 13,
   "id": "b9ea80e9-77c5-46a8-ac0f-e659f2d46d76",
   "metadata": {},
   "outputs": [
    {
     "data": {
      "text/plain": [
       "'0x7ffb39d45770'"
      ]
     },
     "execution_count": 13,
     "metadata": {},
     "output_type": "execute_result"
    }
   ],
   "source": [
    "hex(id(b))"
   ]
  },
  {
   "cell_type": "code",
   "execution_count": 14,
   "id": "5ab8ced1-31cf-493f-ab38-278fbb1482fb",
   "metadata": {},
   "outputs": [],
   "source": [
    "b = \"hello world\""
   ]
  },
  {
   "cell_type": "code",
   "execution_count": 15,
   "id": "da3a7332-5a25-4345-82a3-d750bc85c5b9",
   "metadata": {},
   "outputs": [
    {
     "data": {
      "text/plain": [
       "'0x7ffb398294f0'"
      ]
     },
     "execution_count": 15,
     "metadata": {},
     "output_type": "execute_result"
    }
   ],
   "source": [
    "hex(id(b))"
   ]
  },
  {
   "cell_type": "code",
   "execution_count": 16,
   "id": "464e3142-d3a2-4b28-a4fd-32db4ad3f3b7",
   "metadata": {},
   "outputs": [
    {
     "data": {
      "text/plain": [
       "'0x7ffb39d45770'"
      ]
     },
     "execution_count": 16,
     "metadata": {},
     "output_type": "execute_result"
    }
   ],
   "source": [
    "hex(id(a))"
   ]
  },
  {
   "cell_type": "code",
   "execution_count": 17,
   "id": "a21dfe5a-0bed-4aa4-ab30-ef9b686d88ab",
   "metadata": {},
   "outputs": [
    {
     "data": {
      "text/plain": [
       "'hello'"
      ]
     },
     "execution_count": 17,
     "metadata": {},
     "output_type": "execute_result"
    }
   ],
   "source": [
    "a"
   ]
  },
  {
   "cell_type": "code",
   "execution_count": 18,
   "id": "88b906d7-a9e9-4038-ab6d-1393e6e47473",
   "metadata": {},
   "outputs": [
    {
     "data": {
      "text/plain": [
       "'hello world'"
      ]
     },
     "execution_count": 18,
     "metadata": {},
     "output_type": "execute_result"
    }
   ],
   "source": [
    "b"
   ]
  },
  {
   "cell_type": "code",
   "execution_count": 19,
   "id": "b94908e1-90e8-467b-9888-66d684f29be2",
   "metadata": {},
   "outputs": [],
   "source": [
    "a = [1,2,3]\n",
    "b = a"
   ]
  },
  {
   "cell_type": "code",
   "execution_count": 20,
   "id": "cdda2f65-6816-47ae-b69f-3eaf83fccf7e",
   "metadata": {},
   "outputs": [
    {
     "data": {
      "text/plain": [
       "'0x7ffb3982a900'"
      ]
     },
     "execution_count": 20,
     "metadata": {},
     "output_type": "execute_result"
    }
   ],
   "source": [
    "hex(id(a))"
   ]
  },
  {
   "cell_type": "code",
   "execution_count": 21,
   "id": "560b9a14-14b5-4220-b8e4-0f6d23a988b4",
   "metadata": {},
   "outputs": [
    {
     "data": {
      "text/plain": [
       "'0x7ffb3982a900'"
      ]
     },
     "execution_count": 21,
     "metadata": {},
     "output_type": "execute_result"
    }
   ],
   "source": [
    "hex(id(b))"
   ]
  },
  {
   "cell_type": "code",
   "execution_count": 22,
   "id": "27b143f2-3d0b-44f6-996e-27e4c46b4a0b",
   "metadata": {},
   "outputs": [],
   "source": [
    "b.append(100)"
   ]
  },
  {
   "cell_type": "code",
   "execution_count": 23,
   "id": "2b918e51-899c-40af-ba18-c4a3e853a26d",
   "metadata": {},
   "outputs": [
    {
     "data": {
      "text/plain": [
       "'0x7ffb3982a900'"
      ]
     },
     "execution_count": 23,
     "metadata": {},
     "output_type": "execute_result"
    }
   ],
   "source": [
    "hex(id(a))"
   ]
  },
  {
   "cell_type": "code",
   "execution_count": 24,
   "id": "a00365d7-065a-42d4-96e8-79b266671e68",
   "metadata": {},
   "outputs": [
    {
     "data": {
      "text/plain": [
       "'0x7ffb3982a900'"
      ]
     },
     "execution_count": 24,
     "metadata": {},
     "output_type": "execute_result"
    }
   ],
   "source": [
    "hex(id(b))"
   ]
  },
  {
   "cell_type": "code",
   "execution_count": 25,
   "id": "a3c1734b-d304-4bae-8168-91c9e3c8053f",
   "metadata": {},
   "outputs": [
    {
     "data": {
      "text/plain": [
       "[1, 2, 3, 100]"
      ]
     },
     "execution_count": 25,
     "metadata": {},
     "output_type": "execute_result"
    }
   ],
   "source": [
    "b"
   ]
  },
  {
   "cell_type": "code",
   "execution_count": 26,
   "id": "b634c8c3-6763-4d41-8121-126ecd662259",
   "metadata": {},
   "outputs": [
    {
     "data": {
      "text/plain": [
       "[1, 2, 3, 100]"
      ]
     },
     "execution_count": 26,
     "metadata": {},
     "output_type": "execute_result"
    }
   ],
   "source": [
    "a"
   ]
  },
  {
   "cell_type": "code",
   "execution_count": 27,
   "id": "70e2f5de-6ad1-43e9-a258-c213112cdeb7",
   "metadata": {},
   "outputs": [],
   "source": [
    "a = 10"
   ]
  },
  {
   "cell_type": "code",
   "execution_count": 28,
   "id": "b101d695-6e26-4d3f-9474-6023fbe71e7f",
   "metadata": {},
   "outputs": [],
   "source": [
    "b = 10"
   ]
  },
  {
   "cell_type": "code",
   "execution_count": 29,
   "id": "8d7faeba-5e13-4a02-ae80-d3009192c755",
   "metadata": {},
   "outputs": [
    {
     "data": {
      "text/plain": [
       "'0xa5bba8'"
      ]
     },
     "execution_count": 29,
     "metadata": {},
     "output_type": "execute_result"
    }
   ],
   "source": [
    "hex(id(a))"
   ]
  },
  {
   "cell_type": "code",
   "execution_count": 30,
   "id": "17d0b83d-7419-4ea3-86fc-76b8f20bb3f3",
   "metadata": {},
   "outputs": [
    {
     "data": {
      "text/plain": [
       "'0xa5bba8'"
      ]
     },
     "execution_count": 30,
     "metadata": {},
     "output_type": "execute_result"
    }
   ],
   "source": [
    "hex(id(b))"
   ]
  },
  {
   "cell_type": "code",
   "execution_count": 31,
   "id": "61c1965b-042f-4cd7-97d9-a30ce6add6f9",
   "metadata": {},
   "outputs": [],
   "source": [
    "a = 500"
   ]
  },
  {
   "cell_type": "code",
   "execution_count": 32,
   "id": "ab6ccad3-ded0-4573-96e3-9b1ba5ba0ade",
   "metadata": {},
   "outputs": [],
   "source": [
    "b = 500"
   ]
  },
  {
   "cell_type": "code",
   "execution_count": 33,
   "id": "28021ad9-64d4-4510-950a-029d4d81fb8f",
   "metadata": {},
   "outputs": [
    {
     "data": {
      "text/plain": [
       "'0x7ffb397d6470'"
      ]
     },
     "execution_count": 33,
     "metadata": {},
     "output_type": "execute_result"
    }
   ],
   "source": [
    "hex(id(a))"
   ]
  },
  {
   "cell_type": "code",
   "execution_count": 34,
   "id": "e8e366e5-bb20-4c21-9bf1-474b04689de3",
   "metadata": {},
   "outputs": [
    {
     "data": {
      "text/plain": [
       "'0x7ffb397d6670'"
      ]
     },
     "execution_count": 34,
     "metadata": {},
     "output_type": "execute_result"
    }
   ],
   "source": [
    "hex(id(b))"
   ]
  }
 ],
 "metadata": {
  "kernelspec": {
   "display_name": "Python 3 (ipykernel)",
   "language": "python",
   "name": "python3"
  },
  "language_info": {
   "codemirror_mode": {
    "name": "ipython",
    "version": 3
   },
   "file_extension": ".py",
   "mimetype": "text/x-python",
   "name": "python",
   "nbconvert_exporter": "python",
   "pygments_lexer": "ipython3",
   "version": "3.11.2"
  }
 },
 "nbformat": 4,
 "nbformat_minor": 5
}
