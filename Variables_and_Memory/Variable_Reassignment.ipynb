{
 "cells": [
  {
   "cell_type": "code",
   "execution_count": 1,
   "id": "e5e569e5-505f-44c7-83bd-b839907cf1e1",
   "metadata": {},
   "outputs": [],
   "source": [
    "a = 10"
   ]
  },
  {
   "cell_type": "code",
   "execution_count": 2,
   "id": "ea14fd49-0106-4730-a0ef-9db8d35ced19",
   "metadata": {},
   "outputs": [
    {
     "data": {
      "text/plain": [
       "'0xa5bba8'"
      ]
     },
     "execution_count": 2,
     "metadata": {},
     "output_type": "execute_result"
    }
   ],
   "source": [
    "hex(id(a))"
   ]
  },
  {
   "cell_type": "code",
   "execution_count": 3,
   "id": "963616fe-ef24-4ce5-be4c-b5252f98d094",
   "metadata": {},
   "outputs": [
    {
     "data": {
      "text/plain": [
       "int"
      ]
     },
     "execution_count": 3,
     "metadata": {},
     "output_type": "execute_result"
    }
   ],
   "source": [
    "type(a)"
   ]
  },
  {
   "cell_type": "code",
   "execution_count": 4,
   "id": "666db26e-e3a3-4399-a1b8-a6805b0f71ef",
   "metadata": {},
   "outputs": [],
   "source": [
    "a = 15"
   ]
  },
  {
   "cell_type": "code",
   "execution_count": 5,
   "id": "f5e84652-bc83-4ca5-a355-40d605cf98e8",
   "metadata": {},
   "outputs": [
    {
     "data": {
      "text/plain": [
       "'0xa5bc48'"
      ]
     },
     "execution_count": 5,
     "metadata": {},
     "output_type": "execute_result"
    }
   ],
   "source": [
    "hex(id(a))"
   ]
  },
  {
   "cell_type": "code",
   "execution_count": 6,
   "id": "14aa99d3-806f-4760-92a0-99acad5db260",
   "metadata": {},
   "outputs": [],
   "source": [
    "a = a + 1"
   ]
  },
  {
   "cell_type": "code",
   "execution_count": 7,
   "id": "61cc61e7-3559-4d56-b8ec-e3b03e3ba880",
   "metadata": {},
   "outputs": [
    {
     "data": {
      "text/plain": [
       "'0xa5bc68'"
      ]
     },
     "execution_count": 7,
     "metadata": {},
     "output_type": "execute_result"
    }
   ],
   "source": [
    "hex(id(a))"
   ]
  },
  {
   "cell_type": "code",
   "execution_count": 8,
   "id": "3b23f3c7-6357-40fa-8023-add8b7890605",
   "metadata": {},
   "outputs": [
    {
     "data": {
      "text/plain": [
       "16"
      ]
     },
     "execution_count": 8,
     "metadata": {},
     "output_type": "execute_result"
    }
   ],
   "source": [
    "a"
   ]
  },
  {
   "cell_type": "code",
   "execution_count": 12,
   "id": "dd6f5900-e392-420b-b4a2-b1b68f8c5cbf",
   "metadata": {},
   "outputs": [],
   "source": [
    "a = 10\n",
    "b = 10"
   ]
  },
  {
   "cell_type": "code",
   "execution_count": 13,
   "id": "f0ec6785-161e-473a-b4e6-1184c3b041b9",
   "metadata": {},
   "outputs": [
    {
     "data": {
      "text/plain": [
       "'0xa5bba8'"
      ]
     },
     "execution_count": 13,
     "metadata": {},
     "output_type": "execute_result"
    }
   ],
   "source": [
    "hex(id(a))"
   ]
  },
  {
   "cell_type": "code",
   "execution_count": 14,
   "id": "0e5e5fb3-5d45-4aa9-8303-c5ef176c4d60",
   "metadata": {},
   "outputs": [
    {
     "data": {
      "text/plain": [
       "'0xa5bba8'"
      ]
     },
     "execution_count": 14,
     "metadata": {},
     "output_type": "execute_result"
    }
   ],
   "source": [
    "hex(id(b))"
   ]
  },
  {
   "cell_type": "code",
   "execution_count": null,
   "id": "6843fbcd-fad8-448f-a325-50c6b5edbb1c",
   "metadata": {},
   "outputs": [],
   "source": []
  }
 ],
 "metadata": {
  "kernelspec": {
   "display_name": "Python 3 (ipykernel)",
   "language": "python",
   "name": "python3"
  },
  "language_info": {
   "codemirror_mode": {
    "name": "ipython",
    "version": 3
   },
   "file_extension": ".py",
   "mimetype": "text/x-python",
   "name": "python",
   "nbconvert_exporter": "python",
   "pygments_lexer": "ipython3",
   "version": "3.11.2"
  }
 },
 "nbformat": 4,
 "nbformat_minor": 5
}
